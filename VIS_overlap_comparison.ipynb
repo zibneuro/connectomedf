{
 "cells": [
  {
   "cell_type": "code",
   "execution_count": null,
   "metadata": {},
   "outputs": [],
   "source": [
    "import pandas as pd\n",
    "import numpy as np\n",
    "import pickle\n",
    "from pathlib import Path\n",
    "from matplotlib.colors import SymLogNorm\n",
    "\n",
    "from IPython.display import display\n",
    "from lib.util_plot import *\n",
    "from lib.constants import *\n",
    "from lib.multilevel_analysis import *\n",
    "from lib.pandas_impl import *\n",
    "from lib.pandas_stats_VIS import *\n",
    "from lib.matrix_analyzer import *\n",
    "from lib.pandas_compute import *\n",
    "\n",
    "import lib.VIS_L23_preprocessing.vis_L23_constants as VIS"
   ]
  },
  {
   "cell_type": "code",
   "execution_count": null,
   "metadata": {},
   "outputs": [],
   "source": [
    "data_folder = Path.cwd() / 'data' / 'VIS'\n",
    "eval_folder_5 = Path.cwd() / 'data' / 'eval' / 'VIS_24-12-17_5mu'\n",
    "eval_folder_10 = Path.cwd() / 'data' / 'eval' / 'VIS_24-12-17_10mu'\n",
    "eval_folder_25 = Path.cwd() / 'data' / 'eval' / 'VIS_24-12-17_25mu'\n",
    "plot_folder = eval_folder_5 / \"plots\"\n",
    "plot_folder.mkdir(parents=True, exist_ok=True)"
   ]
  },
  {
   "cell_type": "code",
   "execution_count": null,
   "metadata": {},
   "outputs": [],
   "source": [
    "def load_stats(eval_folder):\n",
    "    filename = eval_folder / \"multilevel_analysis.pkl\"\n",
    "    with open(filename, 'rb') as file:\n",
    "        multilevel_analysis = pickle.load(file)\n",
    "\n",
    "    return multilevel_analysis.stats, multilevel_analysis.df_summary\n",
    "\n",
    "stats_5, df_summary_5 = load_stats(eval_folder_5)\n",
    "stats_10, df_summary_10 = load_stats(eval_folder_10)\n",
    "stats_25, df_summary_25 = load_stats(eval_folder_25)"
   ]
  },
  {
   "cell_type": "code",
   "execution_count": null,
   "metadata": {},
   "outputs": [],
   "source": [
    "def stirling_ln_factorial(n):\n",
    "    return n * np.log(n) - n + 0.5 * np.log(2 * np.pi * n)\n",
    "\n",
    "def get_ratio(a_log, b_log):\n",
    "    return np.exp(a_log - b_log)\n",
    "\n",
    "def print_stats(df_summary):\n",
    "    df_volume = df_summary.groupby(\"overlap_volume\").agg({\"empirical\" : \"sum\"})\n",
    "\n",
    "    print(\"num synapses\", df_volume.sum().values[0])\n",
    "    print(\"num cubes\", len(df_volume))    \n",
    "    print(\"mean syn per cube\", df_volume.mean().values[0])\n",
    "    print(\"median/25th/75th percentile\", np.quantile(df_volume.empirical, [0.5, 0.25, 0.75]))"
   ]
  },
  {
   "cell_type": "code",
   "execution_count": null,
   "metadata": {},
   "outputs": [],
   "source": [
    "print_stats(df_summary_5)"
   ]
  },
  {
   "cell_type": "code",
   "execution_count": null,
   "metadata": {},
   "outputs": [],
   "source": [
    "labels = [STR_EMPIRICAL, STR_NULL + r\" (25$\\mu m$)\", STR_NULL + r\" (10$\\mu m$)\", STR_NULL + r\" (5$\\mu m$)\"]\n",
    "\n",
    "initPlotSettings(False)\n",
    "\n",
    "COLORS_CATEGORICAL_MUTED = sns.color_palette(\"muted\") \n",
    "COLORS_CATEGORICAL_DARK = sns.color_palette(\"dark\") \n",
    "COLORS_CATEGORICAL_COLORBLIND = sns.color_palette(\"colorblind\") \n",
    "COLORS_CATEGORICAL_BRIGHT = sns.color_palette(\"bright\") \n",
    "COLORS_CATEGORICAL_PASTEL = sns.color_palette(\"pastel\") \n",
    "\n",
    "C_EMPIRICAL = COLORS_CATEGORICAL[2]\n",
    "C_M1 = COLORS_CATEGORICAL_MUTED[7]\n",
    "C_M2 = COLORS_CATEGORICAL_BRIGHT[7]\n",
    "C_M3 = COLORS_CATEGORICAL_PASTEL[7]\n",
    "\n",
    "colors = [C_EMPIRICAL, C_M1, C_M2, C_M3]"
   ]
  },
  {
   "cell_type": "code",
   "execution_count": null,
   "metadata": {},
   "outputs": [],
   "source": [
    "datasets = [stats_5.to_numpy(SELECTION_CELLTYPE, EMPIRICAL), \n",
    "            stats_25.to_numpy(SELECTION_CELLTYPE, MODEL_NULL),\n",
    "            stats_10.to_numpy(SELECTION_CELLTYPE, MODEL_NULL),\n",
    "            stats_5.to_numpy(SELECTION_CELLTYPE, MODEL_NULL)]\n",
    "\n",
    "img = plot_bar_chart(datasets,\n",
    "                     dataset_labels = labels, \n",
    "                     colors=colors,\n",
    "                     x_labels=SELECTION_CELLTYPE,\n",
    "                     y_lim=(10, 10**4), use_log=True, error_bars=True,\n",
    "                     adjust_left=0.2, fig_size=figsize_mm_to_inch(50,40), \n",
    "                     filename=plot_folder/f\"VIS_overlap_comparison_syncount.png\")\n",
    "display(img)"
   ]
  },
  {
   "cell_type": "code",
   "execution_count": null,
   "metadata": {},
   "outputs": [],
   "source": [
    "datasets = [stats_5.to_numpy(SELECTION_EXC_SUBCELLULAR, EMPIRICAL), \n",
    "            stats_25.to_numpy(SELECTION_EXC_SUBCELLULAR, MODEL_NULL),\n",
    "            stats_10.to_numpy(SELECTION_EXC_SUBCELLULAR, MODEL_NULL),\n",
    "            stats_5.to_numpy(SELECTION_EXC_SUBCELLULAR, MODEL_NULL)]\n",
    "\n",
    "img = plot_bar_chart(datasets,\n",
    "                     #dataset_labels = labels, \n",
    "                     colors=colors,\n",
    "                     x_labels=SELECTION_EXC_SUBCELLULAR,\n",
    "                     y_lim=(10, 10**4), use_log=True, error_bars=True,\n",
    "                     adjust_left=0.2, fig_size=figsize_mm_to_inch(60,40), \n",
    "                     filename=plot_folder/f\"VIS_overlap_comparison_syncount_EXC_subcellular.png\")\n",
    "display(img)"
   ]
  },
  {
   "cell_type": "code",
   "execution_count": null,
   "metadata": {},
   "outputs": [],
   "source": [
    "datasets = [stats_5.to_numpy(SELECTION_INH_SUBCELLULAR, EMPIRICAL), \n",
    "            stats_25.to_numpy(SELECTION_INH_SUBCELLULAR, MODEL_NULL),\n",
    "            stats_10.to_numpy(SELECTION_INH_SUBCELLULAR, MODEL_NULL),\n",
    "            stats_5.to_numpy(SELECTION_INH_SUBCELLULAR, MODEL_NULL)]\n",
    "\n",
    "img = plot_bar_chart(datasets,\n",
    "                     #dataset_labels = labels, \n",
    "                     colors=colors,\n",
    "                     x_labels=SELECTION_INH_SUBCELLULAR,\n",
    "                     y_lim=(10, 10**4), use_log=True, error_bars=True,\n",
    "                     adjust_left=0.2, fig_size=figsize_mm_to_inch(60,40), \n",
    "                     filename=plot_folder/f\"VIS_overlap_comparison_syncount_INH_subcellular.png\")\n",
    "display(img)"
   ]
  },
  {
   "cell_type": "code",
   "execution_count": null,
   "metadata": {},
   "outputs": [],
   "source": [
    "datasets = [stats_5.to_numpy(SELECTION_CLUSTER_8, EMPIRICAL), \n",
    "            stats_25.to_numpy(SELECTION_CLUSTER_8, MODEL_NULL),\n",
    "            stats_10.to_numpy(SELECTION_CLUSTER_8, MODEL_NULL),\n",
    "            stats_5.to_numpy(SELECTION_CLUSTER_8, MODEL_NULL)]\n",
    "\n",
    "x_labels = [l.split(\"-\")[1] for l in SELECTION_CLUSTER_8]\n",
    "        \n",
    "        \n",
    "filename = plot_folder/f\"VIS_overlap_comparison_{SYNCLUSTERS}_0-8.png\"\n",
    "img = plot_line_chart(datasets, x_labels=x_labels, linestyles=[\".-\",\".-\",\".-\",\".-\"],\n",
    "                      colors=colors, y_lim=(0, 10**6),       \n",
    "    dataset_labels=labels, error_bars=True, use_log=True, hline_y=1,  adjust_left=0.2, adjust_bottom=0.22, fig_size=figsize_mm_to_inch(60,40), filename=filename)\n",
    "display(img)"
   ]
  },
  {
   "cell_type": "code",
   "execution_count": null,
   "metadata": {},
   "outputs": [],
   "source": [
    "\n",
    "datasets = [stats_5.to_numpy(SELECTION_MOTIF, EMPIRICAL), \n",
    "            stats_25.to_numpy(SELECTION_MOTIF, MODEL_NULL),\n",
    "            stats_10.to_numpy(SELECTION_MOTIF, MODEL_NULL),\n",
    "            stats_5.to_numpy(SELECTION_MOTIF, MODEL_NULL)]\n",
    "\n",
    "filename = plot_folder/f\"VIS_overlap_comparison_{MOTIFS}.png\"\n",
    "img = plot_motifs_bar_chart(datasets, \n",
    "    colors = colors,\n",
    "    dataset_labels=labels, quantile_low=25, quantile_high=75,\n",
    "    use_mean=False, marker_size=4, capsize=0, y_axis_label=\"occurrences relative to random\",\n",
    "    error_bars=True, y_lim=(-0.5,10**6), use_log=True, fig_size=figsize_mm_to_inch(160,50), adjust_left=0.07, filename=filename)\n",
    "display(img)"
   ]
  }
 ],
 "metadata": {
  "kernelspec": {
   "display_name": "wiring-specificity",
   "language": "python",
   "name": "python3"
  },
  "language_info": {
   "codemirror_mode": {
    "name": "ipython",
    "version": 3
   },
   "file_extension": ".py",
   "mimetype": "text/x-python",
   "name": "python",
   "nbconvert_exporter": "python",
   "pygments_lexer": "ipython3",
   "version": "3.11.9"
  }
 },
 "nbformat": 4,
 "nbformat_minor": 2
}
