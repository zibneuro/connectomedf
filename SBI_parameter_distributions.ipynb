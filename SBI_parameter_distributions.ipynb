{
 "cells": [
  {
   "cell_type": "code",
   "execution_count": null,
   "metadata": {},
   "outputs": [],
   "source": [
    "import pandas as pd\n",
    "import numpy as np\n",
    "import pickle\n",
    "from pathlib import Path\n",
    "from matplotlib.colors import SymLogNorm\n",
    "\n",
    "from IPython.display import display\n",
    "from lib.util_plot import *\n",
    "from lib.constants import *\n",
    "from lib.multilevel_analysis import *\n",
    "from lib.pandas_impl import *\n",
    "from lib.pandas_stats_VIS import *\n",
    "from lib.matrix_analyzer import *\n",
    "from lib.pandas_compute import *\n",
    "\n",
    "import lib.VIS_L23_preprocessing.vis_L23_constants as VIS"
   ]
  },
  {
   "cell_type": "code",
   "execution_count": null,
   "metadata": {},
   "outputs": [],
   "source": [
    "data_folder = Path.cwd() / 'data' / 'VIS'\n",
    "eval_folder = Path.cwd() / 'data' / 'eval' / 'VIS_SBI_example_25-06-04'\n",
    "eval_folder.mkdir(parents=True, exist_ok=True)\n",
    "plot_folder = eval_folder / \"plots\"\n",
    "plot_folder.mkdir(parents=True, exist_ok=True)"
   ]
  },
  {
   "cell_type": "code",
   "execution_count": null,
   "metadata": {},
   "outputs": [],
   "source": [
    "filename = eval_folder / \"multilevel_analysis.pkl\"\n",
    "with open(filename, 'rb') as file:\n",
    "    multilevel_analysis = pickle.load(file)\n",
    "\n",
    "stats = multilevel_analysis.stats\n",
    "df_summary = multilevel_analysis.df_summary"
   ]
  },
  {
   "cell_type": "code",
   "execution_count": null,
   "metadata": {},
   "outputs": [],
   "source": [
    "df_foo = df_summary.copy().reset_index()\n",
    "\n",
    "data_column = \"model-P_preference\"\n",
    "exc_exc = df_foo[(df_foo.pre_celltype_merged == VIS.EXC_INH_UNKNOWN[0]) & (df_foo.post_celltype_merged == VIS.EXC_INH_UNKNOWN[0])][data_column].values\n",
    "exc_inh = df_foo[(df_foo.pre_celltype_merged == VIS.EXC_INH_UNKNOWN[0]) & (df_foo.post_celltype_merged == VIS.EXC_INH_UNKNOWN[1])][data_column].values\n",
    "inh_exc = df_foo[(df_foo.pre_celltype_merged == VIS.EXC_INH_UNKNOWN[1]) & (df_foo.post_celltype_merged == VIS.EXC_INH_UNKNOWN[0])][data_column].values\n",
    "inh_inh = df_foo[(df_foo.pre_celltype_merged == VIS.EXC_INH_UNKNOWN[1]) & (df_foo.post_celltype_merged == VIS.EXC_INH_UNKNOWN[1])][data_column].values"
   ]
  },
  {
   "cell_type": "code",
   "execution_count": null,
   "metadata": {},
   "outputs": [],
   "source": [
    "n_EE = exc_exc.size\n",
    "n_zero_EE = n_EE - np.count_nonzero(exc_exc)\n",
    "mean_EE = np.mean(exc_exc)\n",
    "median_EE = np.median(exc_exc) \n",
    "\n",
    "n_EI = exc_inh.size\n",
    "n_zero_EI = n_EI - np.count_nonzero(exc_inh)\n",
    "mean_EI = np.mean(exc_inh)\n",
    "median_EI = np.median(exc_inh)\n",
    "\n",
    "n_IE = inh_exc.size\n",
    "n_zero_IE = n_IE - np.count_nonzero(inh_exc)\n",
    "mean_IE = np.mean(inh_exc)\n",
    "median_IE = np.median(inh_exc)\n",
    "\n",
    "n_II = inh_inh.size\n",
    "n_zero_II = n_II - np.count_nonzero(inh_inh)\n",
    "mean_II = np.mean(inh_inh)\n",
    "median_II = np.median(inh_inh)\n",
    "\n",
    "print(\"EE\", n_EE, n_zero_EE/n_EE, mean_EE, median_EE)\n",
    "print(\"EI\", n_EI, n_zero_EI/n_EI, mean_EI, median_EI)\n",
    "print(\"IE\", n_IE, n_zero_IE/n_IE, mean_IE, median_IE)\n",
    "print(\"II\", n_II, n_zero_II/n_II, mean_II, median_II)\n",
    "\n",
    "analytic_P = np.array([mean_EE, mean_EI, mean_IE, mean_II])"
   ]
  },
  {
   "cell_type": "code",
   "execution_count": null,
   "metadata": {},
   "outputs": [],
   "source": [
    "params_inferred_P = np.loadtxt(eval_folder / \"posterior_parameters_P\")\n",
    "params_inferred_P_mean = params_inferred_P.mean(axis=0)\n",
    "\n",
    "params_inferred_PS = np.loadtxt(eval_folder / \"posterior_parameters_PS\")\n",
    "params_inferred_PS_mean = params_inferred_PS.mean(axis=0)\n",
    "\n",
    "params_inferred_PS_I = np.loadtxt(eval_folder / \"posterior_parameters_PS_I\")\n",
    "params_inferred_PS_I_mean = params_inferred_PS_I.mean(axis=0)\n",
    "\n",
    "params_inferred_PS_I_mean"
   ]
  },
  {
   "cell_type": "code",
   "execution_count": null,
   "metadata": {},
   "outputs": [],
   "source": [
    "np.max(params_inferred_P)"
   ]
  },
  {
   "cell_type": "code",
   "execution_count": null,
   "metadata": {},
   "outputs": [],
   "source": [
    "def get_normed(params, M):\n",
    "    params = np.atleast_2d(params)\n",
    "    params_normed = np.zeros_like(params)\n",
    "    assert M.ndim == 1\n",
    "    assert params.shape[1] == M.size\n",
    "    for i in range(params.shape[0]):\n",
    "        for j in range(params.shape[1]):\n",
    "            if(params[i, j] <= 1):\n",
    "                params_normed[i, j] = params[i,j] - 1\n",
    "            else:\n",
    "                params_normed[i, j] = (params[i, j]-1) / M[j]\n",
    "    return params_normed"
   ]
  },
  {
   "cell_type": "code",
   "execution_count": null,
   "metadata": {},
   "outputs": [],
   "source": [
    "M = np.array([5,5,5,5])\n",
    "params_inferred_P_normed = get_normed(params_inferred_P, M)\n",
    "params_analytic_P_normed = get_normed(analytic_P, M)\n",
    "\n",
    "params_inferred_P_normed\n",
    "params_analytic_P_normed"
   ]
  },
  {
   "cell_type": "code",
   "execution_count": null,
   "metadata": {},
   "outputs": [],
   "source": [
    "data_column = \"model-PS_preference\"\n",
    "\n",
    "exc_exc_S = df_foo[(df_foo.pre_celltype_merged == VIS.E) & (df_foo.post_celltype_merged == VIS.E) & (df_foo.post_compartment == VIS.SOMA[0])][data_column].values\n",
    "exc_exc_D = df_foo[(df_foo.pre_celltype_merged == VIS.E) & (df_foo.post_celltype_merged == VIS.E) & (df_foo.post_compartment == VIS.DEND[0])][data_column].values\n",
    "exc_exc_A = df_foo[(df_foo.pre_celltype_merged == VIS.E) & (df_foo.post_celltype_merged == VIS.E) & (df_foo.post_compartment == VIS.AIS[0])][data_column].values\n",
    "exc_inh_S = df_foo[(df_foo.pre_celltype_merged == VIS.E) & (df_foo.post_celltype_merged == VIS.I) & (df_foo.post_compartment == VIS.SOMA[0])][data_column].values\n",
    "exc_inh_D = df_foo[(df_foo.pre_celltype_merged == VIS.E) & (df_foo.post_celltype_merged == VIS.I) & (df_foo.post_compartment == VIS.DEND[0])][data_column].values\n",
    "exc_inh_A = df_foo[(df_foo.pre_celltype_merged == VIS.E) & (df_foo.post_celltype_merged == VIS.I) & (df_foo.post_compartment == VIS.AIS[0])][data_column].values\n",
    "\n",
    "params_analytic_PS = np.array([np.mean(exc_exc_S), np.mean(exc_exc_D), np.mean(exc_exc_A),\n",
    "                                np.mean(exc_inh_S), np.mean(exc_inh_D), 1])\n",
    "\n",
    "inh_exc_S = df_foo[(df_foo.pre_celltype_merged == VIS.I) & (df_foo.post_celltype_merged == VIS.E) & (df_foo.post_compartment == VIS.SOMA[0])][data_column].values\n",
    "inh_exc_D = df_foo[(df_foo.pre_celltype_merged == VIS.I) & (df_foo.post_celltype_merged == VIS.E) & (df_foo.post_compartment == VIS.DEND[0])][data_column].values\n",
    "inh_exc_A = df_foo[(df_foo.pre_celltype_merged == VIS.I) & (df_foo.post_celltype_merged == VIS.E) & (df_foo.post_compartment == VIS.AIS[0])][data_column].values\n",
    "inh_inh_S = df_foo[(df_foo.pre_celltype_merged == VIS.I) & (df_foo.post_celltype_merged == VIS.I) & (df_foo.post_compartment == VIS.SOMA[0])][data_column].values\n",
    "inh_inh_D = df_foo[(df_foo.pre_celltype_merged == VIS.I) & (df_foo.post_celltype_merged == VIS.I) & (df_foo.post_compartment == VIS.DEND[0])][data_column].values\n",
    "inh_inh_A = df_foo[(df_foo.pre_celltype_merged == VIS.I) & (df_foo.post_celltype_merged == VIS.I) & (df_foo.post_compartment == VIS.AIS[0])][data_column].values\n",
    "\n",
    "params_analytic_PS_I = np.array([np.mean(inh_exc_S), np.mean(inh_exc_D), np.mean(inh_exc_A),\n",
    "                                np.mean(inh_inh_S), np.mean(inh_inh_D), 1])"
   ]
  },
  {
   "cell_type": "code",
   "execution_count": null,
   "metadata": {},
   "outputs": [],
   "source": [
    "M = np.array([1, 1, 1, 1, 1, 1])\n",
    "params_inferred_PS_normed = get_normed(params_inferred_PS, M)\n",
    "params_analytic_PS_normed = get_normed(params_analytic_PS, M)"
   ]
  },
  {
   "cell_type": "code",
   "execution_count": null,
   "metadata": {},
   "outputs": [],
   "source": [
    "M = np.array([10, 10, 15, 10, 10, 10])\n",
    "params_inferred_PS_I_normed = get_normed(params_inferred_PS_I, M)\n",
    "params_analytic_PS_I_normed = get_normed(params_analytic_PS_I, M)"
   ]
  },
  {
   "cell_type": "code",
   "execution_count": null,
   "metadata": {},
   "outputs": [],
   "source": [
    "params_analytic_PS_I_normed"
   ]
  },
  {
   "cell_type": "code",
   "execution_count": null,
   "metadata": {},
   "outputs": [],
   "source": [
    "def get_default_limits(n_params):\n",
    "    limits = []\n",
    "    for _ in range(n_params):\n",
    "        limits.append([-1, 1])\n",
    "    return limits"
   ]
  },
  {
   "cell_type": "code",
   "execution_count": null,
   "metadata": {},
   "outputs": [],
   "source": [
    "alpha_labels_P = [r\"$\\alpha_{EE}$\", r\"$\\alpha_{EI}$\", r\"$\\alpha_{IE}$\", r\"$\\alpha_{II}$\"]\n",
    "alpha_labels_PS = [r\"$\\alpha_{EE_S}$\", r\"$\\alpha_{EE_D}$\", r\"$\\alpha_{EE_A}$\",r\"$\\alpha_{EI_S}$\", r\"$\\alpha_{EI_D}$\", r\"$\\alpha_{EI_A}$\"]\n",
    "alpha_labels_PS_I = [r\"$\\alpha_{IE_S}$\", r\"$\\alpha_{IE_D}$\", r\"$\\alpha_{IE_A}$\",r\"$\\alpha_{II_S}$\", r\"$\\alpha_{II_D}$\", r\"$\\alpha_{II_A}$\"]"
   ]
  },
  {
   "cell_type": "markdown",
   "metadata": {},
   "source": [
    "### Posterior plots"
   ]
  },
  {
   "cell_type": "code",
   "execution_count": null,
   "metadata": {},
   "outputs": [],
   "source": [
    "from sbi import analysis as analysis\n",
    "\n",
    "fig, axes = analysis.pairplot(params_inferred_P_normed, limits=get_default_limits(4), figsize=(10,10), points=params_analytic_P_normed, labels=alpha_labels_P)\n",
    "image = savefig_png_svg(fig, plot_folder / \"posterior_parameters_P\")    "
   ]
  },
  {
   "cell_type": "code",
   "execution_count": null,
   "metadata": {},
   "outputs": [],
   "source": [
    "fig, axes = analysis.pairplot(params_inferred_PS_normed, limits=get_default_limits(6), figsize=(10,10), points=params_analytic_PS_normed, labels=alpha_labels_PS)\n",
    "image = savefig_png_svg(fig, plot_folder / \"posterior_parameters_PS\")    "
   ]
  },
  {
   "cell_type": "code",
   "execution_count": null,
   "metadata": {},
   "outputs": [],
   "source": [
    "fig, axes = analysis.pairplot(params_inferred_PS_I_normed, limits=get_default_limits(6), figsize=(10,10), points=params_analytic_PS_I_normed, labels=alpha_labels_PS_I)\n",
    "image = savefig_png_svg(fig, plot_folder / \"posterior_parameters_PS_I\")\n",
    "image"
   ]
  },
  {
   "cell_type": "markdown",
   "metadata": {},
   "source": [
    "### Distribution plots"
   ]
  },
  {
   "cell_type": "code",
   "execution_count": null,
   "metadata": {},
   "outputs": [],
   "source": [
    "import seaborn as sns\n",
    "from IPython.display import display\n",
    "\n",
    "from lib.util_plot import *\n",
    "\n",
    "initPlotSettings(spines_top_right=True)\n",
    "\n",
    "fig, axes = plt.subplots(2, 2, figsize=figsize_mm_to_inch(160, 50))\n",
    "\n",
    "color1 = \"grey\"\n",
    "color2 = \"orange\"\n",
    "alpha = 0.3\n",
    "num_bins = 40\n",
    "\n",
    "binrange = (0, 10)\n",
    "\n",
    "def get_nonzero_values(values): \n",
    "    return values\n",
    "\n",
    "\n",
    "sns.histplot(get_nonzero_values(exc_exc), ax=axes[0, 0], color=color1, stat='density', alpha=alpha, bins=num_bins, binrange=binrange, label=\"locally optimal specificity (analytic)\")\n",
    "sns.histplot(params_inferred_P[:,0], ax=axes[0, 0], color=color2, stat='density', alpha=alpha, bins=num_bins, binrange=binrange, label=\"globally inferred specificity\")\n",
    "axes[0, 0].set_xlim(binrange)\n",
    "axes[0, 0].set_ylabel(\"density\")\n",
    "axes[0, 0].set_title(r\"$\\alpha_{EE}$\")\n",
    "axes[0, 0].legend()\n",
    "axes[0, 0].axvline(x=np.mean(exc_exc), color='grey', linestyle='-', linewidth=1.5)\n",
    "axes[0, 0].axvline(x=params_inferred_P_mean[0], color='orange', linestyle='-', linewidth=1.5)\n",
    "axes[0, 0].axvline(x=1, color='black', linestyle='-', linewidth=0.8)\n",
    "\n",
    "sns.histplot(get_nonzero_values(exc_inh), ax=axes[0, 1], color=color1, stat='density', alpha=alpha, bins=num_bins, binrange=binrange)\n",
    "sns.histplot(params_inferred_P[:,1], ax=axes[0, 1], color=color2, stat='density', alpha=alpha, bins=num_bins, binrange=binrange)\n",
    "axes[0, 1].set_xlim(binrange)\n",
    "axes[0, 1].set_ylabel(None)\n",
    "axes[0, 1].set_title(r\"$\\alpha_{EI}$\")\n",
    "axes[0, 1].axvline(x=np.mean(exc_inh), color='grey', linestyle='-', linewidth=1.5)\n",
    "axes[0, 1].axvline(x=params_inferred_P_mean[1], color='orange', linestyle='-', linewidth=1.5)\n",
    "axes[0, 1].axvline(x=1, color='black', linestyle='-', linewidth=0.8)\n",
    "\n",
    "sns.histplot(get_nonzero_values(inh_exc), ax=axes[1, 0], color=color1, stat='density', alpha=alpha, bins=num_bins, binrange=binrange)\n",
    "sns.histplot(params_inferred_P[:,2], ax=axes[1, 0], color=color2, stat='density', alpha=alpha, bins=num_bins, binrange=binrange)\n",
    "axes[1, 0].set_xlim(binrange)\n",
    "axes[1, 0].set_ylabel(\"density\")\n",
    "axes[1, 0].set_title(r\"$\\alpha_{IE}$\")\n",
    "axes[1, 0].axvline(x=np.mean(inh_exc), color='grey', linestyle='-', linewidth=1.5)\n",
    "axes[1, 0].axvline(x=params_inferred_P_mean[2], color='orange', linestyle='-', linewidth=1.5)\n",
    "axes[1, 0].axvline(x=1, color='black', linestyle='-', linewidth=0.8)\n",
    "\n",
    "sns.histplot(get_nonzero_values(inh_inh), ax=axes[1, 1], color=color1,  stat='density', alpha=alpha, bins=num_bins, binrange=binrange)\n",
    "sns.histplot(params_inferred_P[:,3], ax=axes[1, 1], color=color2, stat='density', alpha=alpha, bins=num_bins, binrange=binrange)\n",
    "axes[1, 1].set_xlim(binrange)\n",
    "axes[1, 1].set_ylabel(None)\n",
    "axes[1, 1].set_title(r\"$\\alpha_{II}$\")\n",
    "axes[1, 1].axvline(x=np.mean(inh_inh), color='grey', linestyle='-', linewidth=1.5)\n",
    "axes[1, 1].axvline(x=params_inferred_P_mean[3], color='orange', linestyle='-', linewidth=1.5)\n",
    "axes[1, 1].axvline(x=1, color='black', linestyle='-', linewidth=0.8)\n",
    "\n",
    "\n",
    "plt.tight_layout()\n",
    "\n",
    "img = savefig_png_svg(fig, plot_folder / f\"parameter_distribution_P\")\n",
    "\n",
    "display(img)"
   ]
  },
  {
   "cell_type": "code",
   "execution_count": null,
   "metadata": {},
   "outputs": [],
   "source": [
    "print(np.count_nonzero(exc_exc_S) / exc_exc_S.size)\n",
    "print(np.count_nonzero(exc_exc_D) / exc_exc_D.size)\n",
    "print(np.count_nonzero(exc_exc_A) / exc_exc_A.size)\n",
    "print(np.count_nonzero(exc_inh_S) / exc_inh_S.size)\n",
    "print(np.count_nonzero(exc_inh_D) / exc_inh_D.size)\n",
    "#print(np.count_nonzero(exc_inh_A) / exc_inh_A.size)"
   ]
  },
  {
   "cell_type": "code",
   "execution_count": null,
   "metadata": {},
   "outputs": [],
   "source": [
    "fig, axes = plt.subplots(2, 3, figsize=figsize_mm_to_inch(160, 50))\n",
    "\n",
    "\n",
    "color1 = \"grey\"\n",
    "color2 = \"orange\"\n",
    "alpha = 0.3\n",
    "num_bins = 20\n",
    "\n",
    "binrange = (0, 2)\n",
    "\n",
    "def get_nonzero_values(values): \n",
    "    return values\n",
    "\n",
    "\n",
    "sns.histplot(get_nonzero_values(exc_exc_S), ax=axes[0, 0], color=color1, stat='density', alpha=alpha, bins=num_bins, binrange=binrange)\n",
    "sns.histplot(params_inferred_PS[:,0], ax=axes[0, 0], color=color2, stat='density', alpha=alpha, bins=num_bins, binrange=binrange)\n",
    "axes[0, 0].set_xlim(binrange)\n",
    "axes[0, 0].set_ylabel(\"density\")\n",
    "axes[0, 0].set_title(r\"$\\alpha_{EE_S}$\")\n",
    "axes[0, 0].axvline(x=np.mean(exc_exc_S), color='grey', linestyle='-', linewidth=1.5)\n",
    "axes[0, 0].axvline(x=params_inferred_PS_mean[0], color='orange', linestyle='-', linewidth=1.5)\n",
    "axes[0, 0].axvline(x=1, color='black', linestyle='-', linewidth=0.8)\n",
    "\n",
    "\n",
    "sns.histplot(get_nonzero_values(exc_exc_D), ax=axes[0, 1], color=color1, stat='density', alpha=alpha, bins=num_bins, binrange=binrange)\n",
    "sns.histplot(params_inferred_PS[:,1], ax=axes[0, 1], color=color2, stat='density', alpha=alpha, bins=num_bins, binrange=binrange)\n",
    "axes[0, 1].set_xlim(binrange)\n",
    "axes[0, 1].set_ylabel(None)\n",
    "axes[0, 1].set_title(r\"$\\alpha_{EE_D}$\")\n",
    "axes[0, 1].axvline(x=1, color='black', linestyle='-', linewidth=0.8)\n",
    "axes[0, 1].axvline(x=np.mean(exc_exc_D), color='grey', linestyle='-', linewidth=1.5)\n",
    "axes[0, 1].axvline(x=params_inferred_PS_mean[1], color='orange', linestyle='-', linewidth=0.8)\n",
    "\n",
    "\n",
    "sns.histplot(get_nonzero_values(exc_exc_A), ax=axes[0, 2], color=color1, stat='density', alpha=alpha, bins=num_bins, binrange=binrange)\n",
    "sns.histplot(params_inferred_PS[:,2], ax=axes[0, 2], color=color2, stat='density', alpha=alpha, bins=num_bins, binrange=binrange)\n",
    "axes[0, 2].set_xlim(binrange)\n",
    "axes[0, 2].set_ylabel(None)\n",
    "axes[0, 2].set_title(r\"$\\alpha_{EE_A}$\")\n",
    "axes[0, 2].axvline(x=np.mean(exc_exc_A), color='grey', linestyle='-', linewidth=1.5)\n",
    "axes[0, 2].axvline(x=params_inferred_PS_mean[2], color='orange', linestyle='-', linewidth=1.5)\n",
    "axes[0, 2].axvline(x=1, color='black', linestyle='-', linewidth=0.8)\n",
    "\n",
    "\n",
    "sns.histplot(get_nonzero_values(exc_inh_S), ax=axes[1, 0], color=color1, stat='density', alpha=alpha, bins=num_bins, binrange=binrange)\n",
    "sns.histplot(params_inferred_PS[:,3], ax=axes[1, 0], color=color2, stat='density', alpha=alpha, bins=num_bins, binrange=binrange)\n",
    "axes[1, 0].set_xlim(binrange)\n",
    "axes[1, 0].set_ylabel(\"density\")\n",
    "axes[1, 0].set_title(r\"$\\alpha_{EI_S}$\")\n",
    "axes[1, 0].axvline(x=np.mean(exc_inh_S), color='grey', linestyle='-', linewidth=1.5)\n",
    "axes[1, 0].axvline(x=params_inferred_PS_mean[3], color='orange', linestyle='-', linewidth=1.5)\n",
    "axes[1, 0].axvline(x=1, color='black', linestyle='-', linewidth=0.8)\n",
    "\n",
    "\n",
    "sns.histplot(get_nonzero_values(exc_inh_D), ax=axes[1, 1], color=color1, stat='density', alpha=alpha, bins=num_bins, binrange=binrange)\n",
    "sns.histplot(params_inferred_PS[:,4], ax=axes[1, 1], color=color2, stat='density', alpha=alpha, bins=num_bins, binrange=binrange)\n",
    "axes[1, 1].set_xlim(binrange)\n",
    "axes[1, 1].set_ylabel(None)\n",
    "axes[1, 1].set_title(r\"$\\alpha_{EI_D}$\")\n",
    "axes[1, 1].axvline(x=np.mean(exc_inh_D), color='grey', linestyle='-', linewidth=1.5)\n",
    "axes[1, 1].axvline(x=params_inferred_PS_mean[4], color='orange', linestyle='-', linewidth=1.5)\n",
    "axes[1, 1].axvline(x=1, color='black', linestyle='-', linewidth=0.8)\n",
    "\n",
    "\n",
    "sns.histplot(get_nonzero_values(exc_inh_A), ax=axes[1, 2], color=color1, stat='density', alpha=alpha, bins=num_bins, binrange=binrange)\n",
    "sns.histplot(params_inferred_PS[:,5], ax=axes[1, 2], color=color2, stat='density', alpha=alpha, bins=num_bins, binrange=binrange)\n",
    "axes[1, 2].set_xlim(binrange)\n",
    "axes[1, 2].set_ylabel(None)\n",
    "axes[1, 2].set_ylabel(\"density\")\n",
    "axes[1, 2].set_title(r\"$\\alpha_{EI_A}$\")\n",
    "axes[1, 2].axvline(x=np.mean(exc_inh_A), color='grey', linestyle='-', linewidth=1.5)\n",
    "axes[1, 2].axvline(x=params_inferred_PS_mean[5], color='orange', linestyle='-', linewidth=1.5)\n",
    "axes[1, 2].axvline(x=1, color='black', linestyle='-', linewidth=0.8)\n",
    "\n",
    "plt.tight_layout()\n",
    "\n",
    "img = savefig_png_svg(fig, plot_folder / f\"parameter_distribution_PS\")\n",
    "\n",
    "display(img)"
   ]
  }
 ],
 "metadata": {
  "kernelspec": {
   "display_name": "wiring-specificity",
   "language": "python",
   "name": "python3"
  },
  "language_info": {
   "codemirror_mode": {
    "name": "ipython",
    "version": 3
   },
   "file_extension": ".py",
   "mimetype": "text/x-python",
   "name": "python",
   "nbconvert_exporter": "python",
   "pygments_lexer": "ipython3",
   "version": "3.11.9"
  }
 },
 "nbformat": 4,
 "nbformat_minor": 2
}
