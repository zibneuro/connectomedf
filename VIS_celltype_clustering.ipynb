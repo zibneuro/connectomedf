{
 "cells": [
  {
   "cell_type": "code",
   "execution_count": null,
   "metadata": {},
   "outputs": [],
   "source": [
    "import numpy as np\n",
    "from pathlib import Path\n",
    "import matplotlib.pyplot as plt\n",
    "from IPython.display import display\n",
    "\n",
    "from lib.constants import *\n",
    "from lib.nodelink_viewer import *\n",
    "import lib.VIS_L23_preprocessing.vis_L23_constants as VIS\n",
    "from lib.pandas_compute import *\n",
    "from lib.matrix_analyzer import *\n",
    "from lib.multilevel_analysis import *\n",
    "from lib.pandas_impl import *\n",
    "from lib.pandas_stats_VIS import *\n",
    "\n",
    "from lib.util_plot import *"
   ]
  },
  {
   "cell_type": "code",
   "execution_count": null,
   "metadata": {},
   "outputs": [],
   "source": [
    "eval_folder = Path.cwd() / 'data' / 'eval' / 'VIS_24-12-17_25mu'\n",
    "plot_folder = eval_folder / 'plots' \n",
    "plot_folder_nodelink = plot_folder / 'nodelink'\n",
    "plot_folder_nodelink.mkdir(exist_ok=True, parents=True)\n",
    "\n",
    "min_num_synapses = 3"
   ]
  },
  {
   "cell_type": "markdown",
   "metadata": {},
   "source": [
    "#### Data preparation"
   ]
  },
  {
   "cell_type": "code",
   "execution_count": null,
   "metadata": {},
   "outputs": [],
   "source": [
    "filename = eval_folder / \"multilevel_analysis.pkl\"\n",
    "with open(filename, 'rb') as file:\n",
    "    multilevel_analysis = pickle.load(file)\n",
    "df_summary = multilevel_analysis.df_summary.reset_index()\n",
    "\n",
    "df_summary.set_index(['pre_celltype', 'post_celltype', 'pre_id_mapped', 'post_id_mapped',\n",
    "       'post_compartment', 'overlap_volume', 'post_celltype_merged',\n",
    "       'pre_celltype_merged'], inplace=True)"
   ]
  },
  {
   "cell_type": "code",
   "execution_count": null,
   "metadata": {},
   "outputs": [],
   "source": [
    "df = df_summary.reset_index()\n",
    "df_filtered = df[(df.pre_id_mapped >= 0) & (df.post_id_mapped >= 0)]\n",
    "\n",
    "df_features_cellular = df_filtered.groupby([\"pre_celltype\", \"pre_id_mapped\", \"post_celltype_merged\"]).agg({\n",
    "    EMPIRICAL : \"sum\",\n",
    "    MODEL_NULL : \"sum\",\n",
    "    f\"{MODEL_Pa}_preference\" : \"mean\",\n",
    "    f\"{MODEL_PaS}_preference\" : \"mean\",\n",
    "    f\"{MODEL_PaSb}_preference\" : \"mean\",\n",
    "    f\"{MODEL_PSa}_preference\" : \"mean\",\n",
    "})\n",
    "\n",
    "df_features_subcellular = df_filtered.groupby([\"pre_celltype\", \"pre_id_mapped\", \"post_celltype_merged\", \"post_compartment\"]).agg({\n",
    "    EMPIRICAL : \"sum\",\n",
    "    MODEL_NULL : \"sum\",\n",
    "    f\"{MODEL_Pa}_preference\" : \"mean\",\n",
    "    f\"{MODEL_PaS}_preference\" : \"mean\",\n",
    "    f\"{MODEL_PaSb}_preference\" : \"mean\",\n",
    "    f\"{MODEL_PSa}_preference\" : \"mean\",\n",
    "})"
   ]
  },
  {
   "cell_type": "code",
   "execution_count": null,
   "metadata": {},
   "outputs": [],
   "source": [
    "df_filtered[EMPIRICAL].sum()"
   ]
  },
  {
   "cell_type": "code",
   "execution_count": null,
   "metadata": {},
   "outputs": [],
   "source": [
    "df_compartments = df_features_subcellular.groupby([\"pre_id_mapped\", \"pre_celltype\", \"post_compartment\"]).agg({EMPIRICAL:\"sum\"}).reset_index()\n",
    "df_compartments[df_compartments.pre_celltype == 20];"
   ]
  },
  {
   "cell_type": "code",
   "execution_count": null,
   "metadata": {},
   "outputs": [],
   "source": [
    "df_tmp = df_features_cellular.groupby(\"pre_id_mapped\").agg({EMPIRICAL : \"sum\"}).reset_index()\n",
    "neurons_wo_synapses = df_tmp[df_tmp[EMPIRICAL] < min_num_synapses].pre_id_mapped.values\n",
    "\n",
    "df_features_cellular = df_features_cellular[~df_features_cellular.index.get_level_values(\"pre_id_mapped\").isin(neurons_wo_synapses)].reset_index()\n",
    "df_features_subcellular = df_features_subcellular[~df_features_subcellular.index.get_level_values(\"pre_id_mapped\").isin(neurons_wo_synapses)].reset_index()"
   ]
  },
  {
   "cell_type": "markdown",
   "metadata": {},
   "source": [
    "#### Plot feature distributions"
   ]
  },
  {
   "cell_type": "code",
   "execution_count": null,
   "metadata": {},
   "outputs": [],
   "source": [
    "mask_exc_exc = (df_features_cellular.pre_celltype == 1) & (df_features_cellular.post_celltype_merged == 1)\n",
    "mask_exc_inh = (df_features_cellular.pre_celltype == 1) & (df_features_cellular.post_celltype_merged > 1)\n",
    "\n",
    "mask_inh_exc = (df_features_cellular.pre_celltype > 1) & (df_features_cellular.post_celltype_merged == 1)\n",
    "mask_inh_inh = (df_features_cellular.pre_celltype > 1) & (df_features_cellular.post_celltype_merged > 1)"
   ]
  },
  {
   "cell_type": "code",
   "execution_count": null,
   "metadata": {},
   "outputs": [],
   "source": [
    "df_features_cellular[mask_exc_exc][f\"{MODEL_Pa}_preference\"].describe()"
   ]
  },
  {
   "cell_type": "markdown",
   "metadata": {},
   "source": [
    "#### Build feature vectors"
   ]
  },
  {
   "cell_type": "code",
   "execution_count": null,
   "metadata": {},
   "outputs": [],
   "source": [
    "def build_features(df_cellular, df_subcellular):\n",
    "    pre_ids = np.unique(df_cellular.pre_id_mapped.values.astype(int)).tolist()\n",
    "    \n",
    "    X = np.ones((len(pre_ids), 5))\n",
    "    y = np.zeros(len(pre_ids))\n",
    "    labels_long = [\"\" for _ in range(len(pre_ids))]\n",
    "\n",
    "    for _, row in df_cellular.iterrows():\n",
    "        class_label = row.pre_celltype\n",
    "        preference_value = row[f\"{MODEL_Pa}_preference\"]\n",
    "        \n",
    "        row_idx = pre_ids.index(row.pre_id_mapped)\n",
    "        if(row.post_celltype_merged == VIS.EXC_INH[0]):\n",
    "            X[row_idx, 0] = preference_value\n",
    "        else:\n",
    "            X[row_idx, 1] = preference_value\n",
    "        \n",
    "        y[row_idx] = class_label\n",
    "        labels_long[row_idx] = VIS.CELLTYPE_LABELS_SHORT[class_label] + f\"\\n{int(row.pre_id_mapped)}\"\n",
    "\n",
    "    for _, row in df_subcellular.iterrows():\n",
    "        preference_value = row[f\"{MODEL_PaS}_preference\"]\n",
    "        \n",
    "        row_idx = pre_ids.index(row.pre_id_mapped)\n",
    "        if(row.post_compartment == VIS.SOMA[0]):\n",
    "            X[row_idx, 2] = preference_value\n",
    "        elif(row.post_compartment == VIS.DEND[0]):\n",
    "            X[row_idx, 3] = preference_value\n",
    "        elif(row.post_compartment == VIS.AIS[0]):\n",
    "            X[row_idx, 4] = preference_value\n",
    "        else:\n",
    "            raise ValueError()\n",
    "\n",
    "    return y, X, labels_long \n"
   ]
  },
  {
   "cell_type": "code",
   "execution_count": null,
   "metadata": {},
   "outputs": [],
   "source": [
    "pre_ids = np.unique(df_features_cellular[df_features_cellular.pre_celltype.isin(VIS.INH)].pre_id_mapped.values.astype(int)).tolist()\n",
    "sorted(pre_ids)"
   ]
  },
  {
   "cell_type": "code",
   "execution_count": null,
   "metadata": {},
   "outputs": [],
   "source": [
    "y, X, labels_long = build_features(df_features_cellular, df_features_subcellular)\n",
    "\n",
    "from sklearn.preprocessing import StandardScaler\n",
    "\n",
    "scaler = StandardScaler()\n",
    "X_scaled = scaler.fit_transform(X)\n",
    "\n",
    "y_binary = y.copy()\n",
    "y_binary[y_binary == 1] = 0\n",
    "y_binary[y_binary > 1] = 1"
   ]
  },
  {
   "cell_type": "code",
   "execution_count": null,
   "metadata": {},
   "outputs": [],
   "source": [
    "pre_ids"
   ]
  },
  {
   "cell_type": "markdown",
   "metadata": {},
   "source": [
    "### Table with specificity values"
   ]
  },
  {
   "cell_type": "code",
   "execution_count": null,
   "metadata": {},
   "outputs": [],
   "source": [
    "post_domain = [\n",
    "    (VIS.EXC_INH[0], VIS.SOMA[0]),\n",
    "    (VIS.EXC_INH[0], VIS.DEND[0]),\n",
    "    (VIS.EXC_INH[0], VIS.AIS[0]),\n",
    "    (VIS.EXC_INH[1], VIS.SOMA[0]),\n",
    "    (VIS.EXC_INH[1], VIS.DEND[0]),\n",
    "    (VIS.EXC_INH[1], VIS.AIS[0]),\n",
    "]\n",
    "\n",
    "matrix_analyzer = ConnectomeMatrixAnalyzer(df_summary, plot_folder)\n",
    "matrix_analyzer.set_selection(include_filter_and={\n",
    "    \"pre_id_mapped\" : pre_ids    \n",
    "})\n",
    "matrix_analyzer.set_data_columns(\"model-PaS_preference\")\n",
    "matrix_analyzer.build_matrix([\"pre_celltype\", \"pre_id_mapped\"], \n",
    "                             [\"post_celltype_merged\", \"post_compartment\"],    \n",
    "                             row_domains = None,# VIS.EXC_INH_UNKNOWN,  \n",
    "                             col_domains = post_domain,\n",
    "                             value_label_map = {\n",
    "                                 \"pre_celltype\" : VIS.CELLTYPE_LABELS,\n",
    "                                 \"post_celltype_merged\" : VIS.CELLTYPE_LABELS,\n",
    "                                 \"post_compartment\" : VIS.COMPARTMENT_LABELS,\n",
    "                             },\n",
    "                             aggregation_fn=\"mean\",\n",
    "                             default_value=1)\n",
    "matrix_analyzer.render_matrix(\"VIS-INH-model-P-preference_all\", \n",
    "                              colormap_name=\"coolwarm\", vmin=-1, vmax=1, normalization_function=NormalizePreferenceValue(0, 8),\n",
    "                              col_separator_lines=True, row_separator_lines=True, high_res=False)"
   ]
  },
  {
   "cell_type": "code",
   "execution_count": null,
   "metadata": {},
   "outputs": [],
   "source": [
    "from matplotlib.colors import SymLogNorm\n",
    "\n",
    "matrix_analyzer = ConnectomeMatrixAnalyzer(df_summary, plot_folder)\n",
    "matrix_analyzer.set_selection(include_filter_and={\n",
    "    \"pre_id_mapped\" : pre_ids    \n",
    "})\n",
    "matrix_analyzer.set_data_columns(EMPIRICAL)\n",
    "matrix_analyzer.build_matrix([\"pre_celltype\", \"pre_id_mapped\"], \n",
    "                             [\"post_celltype_merged\", \"post_compartment\"],    \n",
    "                             row_domains = None,# VIS.EXC_INH_UNKNOWN,  \n",
    "                             col_domains = post_domain,\n",
    "                             value_label_map = {\n",
    "                                 \"pre_celltype\" : VIS.CELLTYPE_LABELS,\n",
    "                                 \"post_celltype_merged\" : VIS.CELLTYPE_LABELS,\n",
    "                                 \"post_compartment\" : VIS.COMPARTMENT_LABELS,\n",
    "                             },\n",
    "                             aggregation_fn=\"sum\",\n",
    "                             default_value=0)\n",
    "matrix_analyzer.render_matrix(\"VIS-INH-empirical_all\", \n",
    "                              colormap_name=\"binary\", vmin=0, vmax=1000, normalization_function=SymLogNorm(0.999, 1, vmin=0),\n",
    "                              col_separator_lines=True, row_separator_lines=True, high_res=False)"
   ]
  },
  {
   "cell_type": "code",
   "execution_count": null,
   "metadata": {},
   "outputs": [],
   "source": [
    "matrix_analyzer = ConnectomeMatrixAnalyzer(df_summary, plot_folder)\n",
    "matrix_analyzer.set_selection(include_filter_and={\n",
    "    \"pre_id_mapped\" : pre_ids    \n",
    "})\n",
    "matrix_analyzer.set_data_columns(MODEL_NULL)\n",
    "matrix_analyzer.build_matrix([\"pre_celltype\", \"pre_id_mapped\"], \n",
    "                             [\"post_celltype_merged\", \"post_compartment\"],    \n",
    "                             row_domains = None,# VIS.EXC_INH_UNKNOWN,  \n",
    "                             col_domains = post_domain,\n",
    "                             value_label_map = {\n",
    "                                 \"pre_celltype\" : VIS.CELLTYPE_LABELS,\n",
    "                                 \"post_celltype_merged\" : VIS.CELLTYPE_LABELS,\n",
    "                                 \"post_compartment\" : VIS.COMPARTMENT_LABELS,\n",
    "                             },\n",
    "                             aggregation_fn=\"sum\",\n",
    "                             default_value=0)\n",
    "matrix_analyzer.render_matrix(\"VIS-INH-null_all\", \n",
    "                              colormap_name=\"binary\", vmin=0, vmax=1000, normalization_function=SymLogNorm(0.999, 1, vmin=0),\n",
    "                              col_separator_lines=True, row_separator_lines=True, high_res=False)"
   ]
  },
  {
   "cell_type": "code",
   "execution_count": null,
   "metadata": {},
   "outputs": [],
   "source": [
    "norm_fn = NormalizePreferenceValue(0, 8)\t\n",
    "M_normed = norm_fn(matrix_analyzer.matrix)\n",
    "M_normed\n",
    "\n",
    "mask_inh = y > 1\n",
    "y_inh = y[mask_inh]\n",
    "X_inh = X[mask_inh]\n",
    "\n",
    "labels_long_inh = [labels_long[i] for i in range(len(labels_long)) if mask_inh[i]]\n",
    "\n",
    "def get_label_csv(pre_id):\n",
    "    idx = pre_ids.index(pre_id)\n",
    "    label = labels_long[idx]\n",
    "    return label.split(\"\\n\")[0].replace(\"$\",\"\").replace(\"I\",\"INH\").replace(\"{\",\"\").replace(\"}\",\"\")\n",
    "\n",
    "with open(plot_folder / \"subcellular_preference_by_cell.csv\", \"w\") as f:\n",
    "    f.write(\",\".join([\"pre_celltype\", \"pre_id\",\"exc_soma\",\"exc_dend\",\"exc_ais\",\"inh_soma\",\"inh_dend\",\"inh_ais\"]) + \"\\n\")\n",
    "    for row_idx, row in enumerate(M_normed):\n",
    "        f.write(get_label_csv(pre_ids[row_idx]) + \",\" + str(pre_ids[row_idx]) + \",\" + \",\".join([f'{x:.3f}' for x in row]) + \"\\n\")"
   ]
  },
  {
   "cell_type": "code",
   "execution_count": null,
   "metadata": {},
   "outputs": [],
   "source": [
    "csv_ids = []\n",
    "csv_labels = []\n",
    "csv_exc_soma = []\n",
    "csv_exc_dend = []\n",
    "csv_exc_ais = []\n",
    "csv_inh_soma = []\n",
    "csv_inh_dend = []\n",
    "csv_inh_ais = []\n",
    "\n",
    "for idx, pre_id in enumerate(pre_ids):\n",
    "    df_rows = df_filtered[(df_filtered.pre_id_mapped == pre_id) & (df_filtered.post_celltype_merged == VIS.EXC_INH[0])]\n",
    "    \n",
    "    print(df_rows.shape)\n",
    "    break"
   ]
  },
  {
   "cell_type": "code",
   "execution_count": null,
   "metadata": {},
   "outputs": [],
   "source": [
    "for label in labels_long_inh:\n",
    "    print(label.split(\"\\n\"))"
   ]
  },
  {
   "cell_type": "code",
   "execution_count": null,
   "metadata": {},
   "outputs": [],
   "source": [
    "np.count_nonzero(y_binary)"
   ]
  },
  {
   "cell_type": "markdown",
   "metadata": {},
   "source": [
    "### 2D Embedding"
   ]
  },
  {
   "cell_type": "code",
   "execution_count": null,
   "metadata": {},
   "outputs": [],
   "source": [
    "%matplotlib inline\n",
    "\n",
    "celltypes = VIS.CELLTYPES_ALL[:-1]\n",
    "\n",
    "colors = [\"tab:red\",\n",
    "          \"tab:blue\", \n",
    "          \"tab:orange\", \n",
    "          \"tab:green\", \n",
    "          \"tab:purple\",\n",
    "          \"tab:brown\", \n",
    "          \"tab:pink\", \n",
    "          \"tab:olive\"]\n",
    "\n",
    "color_idx = {\n",
    "    1  : 0,\n",
    "    2  : 1,\n",
    "    20  : 1,\n",
    "    21  : 2,\n",
    "    22  : 3,\n",
    "    23  : 4,\n",
    "    24  : 5,\n",
    "    25  : 6\n",
    "}"
   ]
  },
  {
   "cell_type": "code",
   "execution_count": null,
   "metadata": {},
   "outputs": [],
   "source": [
    "from sklearn.decomposition import PCA\n",
    "\n",
    "pca = PCA(n_components=2)\n",
    "X_pca = pca.fit_transform(X_scaled)"
   ]
  },
  {
   "cell_type": "code",
   "execution_count": null,
   "metadata": {},
   "outputs": [],
   "source": [
    "X_pca[y == 1].shape"
   ]
  },
  {
   "cell_type": "code",
   "execution_count": null,
   "metadata": {},
   "outputs": [],
   "source": [
    "initPlotSettings(spines_top_right=True)\n",
    "\n",
    "fig, ax = plt.subplots(figsize=figsize_mm_to_inch(50,40))\n",
    "\n",
    "for ct_idx, ct in enumerate(celltypes):\n",
    "    if(ct == 1):\n",
    "        marker = \"^\"\n",
    "        ms = 10\n",
    "    else:\n",
    "        marker = \"o\"\n",
    "        ms = 12\n",
    "    plt.scatter(X_pca[y == ct, 0], X_pca[y == ct, 1], color=colors[ct_idx], label=VIS.CELLTYPE_LABELS_SHORT[ct], marker=marker, s=ms, alpha=0.8, linewidths=0)\n",
    "plt.xlabel(\"PCA 1\")\n",
    "plt.ylabel(\"PCA 2\")\n",
    "#plt.yscale(\"symlog\")\n",
    "plt.legend()\n",
    "plt.xticks([])\n",
    "plt.yticks([])\n",
    "plt.show()\n",
    "\n",
    "img = savefig_png_svg(fig, plot_folder/\"pca_embedding\")\n",
    "display(img)"
   ]
  },
  {
   "cell_type": "markdown",
   "metadata": {},
   "source": [
    "### Clustering"
   ]
  },
  {
   "cell_type": "code",
   "execution_count": null,
   "metadata": {},
   "outputs": [],
   "source": [
    "import matplotlib.pyplot as plt\n",
    "from sklearn.datasets import load_iris\n",
    "from sklearn.preprocessing import StandardScaler\n",
    "from scipy.cluster.hierarchy import dendrogram, linkage\n",
    "\n",
    "selected = [y > 1]\n",
    "\n",
    "X_inh = X_scaled[y > 1] \n",
    "y_inh = y[y > 1]\n",
    "y_labels = [labels_long[i] for i in range(len(labels_long)) if y[i] > 1]\n",
    "\n",
    "# Perform hierarchical/agglomerative clustering\n",
    "# Create a linkage matrix for the dendrogram\n",
    "Z = linkage(X_inh, method='ward', optimal_ordering=True)\n",
    "\n",
    "# Plot the dendrogram\n",
    "fig = plt.figure(figsize=figsize_mm_to_inch(170,50))\n",
    "dendrogram(Z, labels=y_labels, color_threshold=8)\n",
    "plt.show()\n",
    "plt.yticks([])\n",
    "plt.subplots_adjust(top=0.99, left=0.01, right=0.99, bottom=0.22)\n",
    "img = savefig_png_svg(fig, plot_folder/\"dendrogram\")\n",
    "display(img)"
   ]
  }
 ],
 "metadata": {
  "kernelspec": {
   "display_name": "wiring-specificity",
   "language": "python",
   "name": "python3"
  },
  "language_info": {
   "codemirror_mode": {
    "name": "ipython",
    "version": 3
   },
   "file_extension": ".py",
   "mimetype": "text/x-python",
   "name": "python",
   "nbconvert_exporter": "python",
   "pygments_lexer": "ipython3",
   "version": "3.11.9"
  },
  "orig_nbformat": 4
 },
 "nbformat": 4,
 "nbformat_minor": 2
}
